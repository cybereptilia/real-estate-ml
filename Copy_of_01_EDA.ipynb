{
  "cells": [
    {
      "cell_type": "code",
      "execution_count": null,
      "id": "2d793412-ee0c-496a-b46b-8f13791a9b4e",
      "metadata": {
        "colab": {
          "base_uri": "https://localhost:8080/",
          "height": 206
        },
        "id": "2d793412-ee0c-496a-b46b-8f13791a9b4e",
        "outputId": "4df2943d-cb26-43de-a265-627ba3237028"
      },
      "outputs": [
        {
          "output_type": "execute_result",
          "data": {
            "text/plain": [
              "    price  sqft  num_bedrooms  num_bathrooms  zipcode  year_built has_pool\n",
              "0  250000  1400             3              2    21044        1990       no\n",
              "1  340000  1600             4              2    21045        2001      yes\n",
              "2  500000  2100             4              3    21046        2015      yes\n",
              "3  420000  1800             3              2    21045        1999       no\n",
              "4  620000  2500             5              4    21044        2020      yes"
            ],
            "text/html": [
              "\n",
              "  <div id=\"df-edb2d82f-782f-4ced-86b0-fad75af29732\" class=\"colab-df-container\">\n",
              "    <div>\n",
              "<style scoped>\n",
              "    .dataframe tbody tr th:only-of-type {\n",
              "        vertical-align: middle;\n",
              "    }\n",
              "\n",
              "    .dataframe tbody tr th {\n",
              "        vertical-align: top;\n",
              "    }\n",
              "\n",
              "    .dataframe thead th {\n",
              "        text-align: right;\n",
              "    }\n",
              "</style>\n",
              "<table border=\"1\" class=\"dataframe\">\n",
              "  <thead>\n",
              "    <tr style=\"text-align: right;\">\n",
              "      <th></th>\n",
              "      <th>price</th>\n",
              "      <th>sqft</th>\n",
              "      <th>num_bedrooms</th>\n",
              "      <th>num_bathrooms</th>\n",
              "      <th>zipcode</th>\n",
              "      <th>year_built</th>\n",
              "      <th>has_pool</th>\n",
              "    </tr>\n",
              "  </thead>\n",
              "  <tbody>\n",
              "    <tr>\n",
              "      <th>0</th>\n",
              "      <td>250000</td>\n",
              "      <td>1400</td>\n",
              "      <td>3</td>\n",
              "      <td>2</td>\n",
              "      <td>21044</td>\n",
              "      <td>1990</td>\n",
              "      <td>no</td>\n",
              "    </tr>\n",
              "    <tr>\n",
              "      <th>1</th>\n",
              "      <td>340000</td>\n",
              "      <td>1600</td>\n",
              "      <td>4</td>\n",
              "      <td>2</td>\n",
              "      <td>21045</td>\n",
              "      <td>2001</td>\n",
              "      <td>yes</td>\n",
              "    </tr>\n",
              "    <tr>\n",
              "      <th>2</th>\n",
              "      <td>500000</td>\n",
              "      <td>2100</td>\n",
              "      <td>4</td>\n",
              "      <td>3</td>\n",
              "      <td>21046</td>\n",
              "      <td>2015</td>\n",
              "      <td>yes</td>\n",
              "    </tr>\n",
              "    <tr>\n",
              "      <th>3</th>\n",
              "      <td>420000</td>\n",
              "      <td>1800</td>\n",
              "      <td>3</td>\n",
              "      <td>2</td>\n",
              "      <td>21045</td>\n",
              "      <td>1999</td>\n",
              "      <td>no</td>\n",
              "    </tr>\n",
              "    <tr>\n",
              "      <th>4</th>\n",
              "      <td>620000</td>\n",
              "      <td>2500</td>\n",
              "      <td>5</td>\n",
              "      <td>4</td>\n",
              "      <td>21044</td>\n",
              "      <td>2020</td>\n",
              "      <td>yes</td>\n",
              "    </tr>\n",
              "  </tbody>\n",
              "</table>\n",
              "</div>\n",
              "    <div class=\"colab-df-buttons\">\n",
              "\n",
              "  <div class=\"colab-df-container\">\n",
              "    <button class=\"colab-df-convert\" onclick=\"convertToInteractive('df-edb2d82f-782f-4ced-86b0-fad75af29732')\"\n",
              "            title=\"Convert this dataframe to an interactive table.\"\n",
              "            style=\"display:none;\">\n",
              "\n",
              "  <svg xmlns=\"http://www.w3.org/2000/svg\" height=\"24px\" viewBox=\"0 -960 960 960\">\n",
              "    <path d=\"M120-120v-720h720v720H120Zm60-500h600v-160H180v160Zm220 220h160v-160H400v160Zm0 220h160v-160H400v160ZM180-400h160v-160H180v160Zm440 0h160v-160H620v160ZM180-180h160v-160H180v160Zm440 0h160v-160H620v160Z\"/>\n",
              "  </svg>\n",
              "    </button>\n",
              "\n",
              "  <style>\n",
              "    .colab-df-container {\n",
              "      display:flex;\n",
              "      gap: 12px;\n",
              "    }\n",
              "\n",
              "    .colab-df-convert {\n",
              "      background-color: #E8F0FE;\n",
              "      border: none;\n",
              "      border-radius: 50%;\n",
              "      cursor: pointer;\n",
              "      display: none;\n",
              "      fill: #1967D2;\n",
              "      height: 32px;\n",
              "      padding: 0 0 0 0;\n",
              "      width: 32px;\n",
              "    }\n",
              "\n",
              "    .colab-df-convert:hover {\n",
              "      background-color: #E2EBFA;\n",
              "      box-shadow: 0px 1px 2px rgba(60, 64, 67, 0.3), 0px 1px 3px 1px rgba(60, 64, 67, 0.15);\n",
              "      fill: #174EA6;\n",
              "    }\n",
              "\n",
              "    .colab-df-buttons div {\n",
              "      margin-bottom: 4px;\n",
              "    }\n",
              "\n",
              "    [theme=dark] .colab-df-convert {\n",
              "      background-color: #3B4455;\n",
              "      fill: #D2E3FC;\n",
              "    }\n",
              "\n",
              "    [theme=dark] .colab-df-convert:hover {\n",
              "      background-color: #434B5C;\n",
              "      box-shadow: 0px 1px 3px 1px rgba(0, 0, 0, 0.15);\n",
              "      filter: drop-shadow(0px 1px 2px rgba(0, 0, 0, 0.3));\n",
              "      fill: #FFFFFF;\n",
              "    }\n",
              "  </style>\n",
              "\n",
              "    <script>\n",
              "      const buttonEl =\n",
              "        document.querySelector('#df-edb2d82f-782f-4ced-86b0-fad75af29732 button.colab-df-convert');\n",
              "      buttonEl.style.display =\n",
              "        google.colab.kernel.accessAllowed ? 'block' : 'none';\n",
              "\n",
              "      async function convertToInteractive(key) {\n",
              "        const element = document.querySelector('#df-edb2d82f-782f-4ced-86b0-fad75af29732');\n",
              "        const dataTable =\n",
              "          await google.colab.kernel.invokeFunction('convertToInteractive',\n",
              "                                                    [key], {});\n",
              "        if (!dataTable) return;\n",
              "\n",
              "        const docLinkHtml = 'Like what you see? Visit the ' +\n",
              "          '<a target=\"_blank\" href=https://colab.research.google.com/notebooks/data_table.ipynb>data table notebook</a>'\n",
              "          + ' to learn more about interactive tables.';\n",
              "        element.innerHTML = '';\n",
              "        dataTable['output_type'] = 'display_data';\n",
              "        await google.colab.output.renderOutput(dataTable, element);\n",
              "        const docLink = document.createElement('div');\n",
              "        docLink.innerHTML = docLinkHtml;\n",
              "        element.appendChild(docLink);\n",
              "      }\n",
              "    </script>\n",
              "  </div>\n",
              "\n",
              "\n",
              "    <div id=\"df-7d284db7-d4fb-4a7a-8894-0bc39d15f55a\">\n",
              "      <button class=\"colab-df-quickchart\" onclick=\"quickchart('df-7d284db7-d4fb-4a7a-8894-0bc39d15f55a')\"\n",
              "                title=\"Suggest charts\"\n",
              "                style=\"display:none;\">\n",
              "\n",
              "<svg xmlns=\"http://www.w3.org/2000/svg\" height=\"24px\"viewBox=\"0 0 24 24\"\n",
              "     width=\"24px\">\n",
              "    <g>\n",
              "        <path d=\"M19 3H5c-1.1 0-2 .9-2 2v14c0 1.1.9 2 2 2h14c1.1 0 2-.9 2-2V5c0-1.1-.9-2-2-2zM9 17H7v-7h2v7zm4 0h-2V7h2v10zm4 0h-2v-4h2v4z\"/>\n",
              "    </g>\n",
              "</svg>\n",
              "      </button>\n",
              "\n",
              "<style>\n",
              "  .colab-df-quickchart {\n",
              "      --bg-color: #E8F0FE;\n",
              "      --fill-color: #1967D2;\n",
              "      --hover-bg-color: #E2EBFA;\n",
              "      --hover-fill-color: #174EA6;\n",
              "      --disabled-fill-color: #AAA;\n",
              "      --disabled-bg-color: #DDD;\n",
              "  }\n",
              "\n",
              "  [theme=dark] .colab-df-quickchart {\n",
              "      --bg-color: #3B4455;\n",
              "      --fill-color: #D2E3FC;\n",
              "      --hover-bg-color: #434B5C;\n",
              "      --hover-fill-color: #FFFFFF;\n",
              "      --disabled-bg-color: #3B4455;\n",
              "      --disabled-fill-color: #666;\n",
              "  }\n",
              "\n",
              "  .colab-df-quickchart {\n",
              "    background-color: var(--bg-color);\n",
              "    border: none;\n",
              "    border-radius: 50%;\n",
              "    cursor: pointer;\n",
              "    display: none;\n",
              "    fill: var(--fill-color);\n",
              "    height: 32px;\n",
              "    padding: 0;\n",
              "    width: 32px;\n",
              "  }\n",
              "\n",
              "  .colab-df-quickchart:hover {\n",
              "    background-color: var(--hover-bg-color);\n",
              "    box-shadow: 0 1px 2px rgba(60, 64, 67, 0.3), 0 1px 3px 1px rgba(60, 64, 67, 0.15);\n",
              "    fill: var(--button-hover-fill-color);\n",
              "  }\n",
              "\n",
              "  .colab-df-quickchart-complete:disabled,\n",
              "  .colab-df-quickchart-complete:disabled:hover {\n",
              "    background-color: var(--disabled-bg-color);\n",
              "    fill: var(--disabled-fill-color);\n",
              "    box-shadow: none;\n",
              "  }\n",
              "\n",
              "  .colab-df-spinner {\n",
              "    border: 2px solid var(--fill-color);\n",
              "    border-color: transparent;\n",
              "    border-bottom-color: var(--fill-color);\n",
              "    animation:\n",
              "      spin 1s steps(1) infinite;\n",
              "  }\n",
              "\n",
              "  @keyframes spin {\n",
              "    0% {\n",
              "      border-color: transparent;\n",
              "      border-bottom-color: var(--fill-color);\n",
              "      border-left-color: var(--fill-color);\n",
              "    }\n",
              "    20% {\n",
              "      border-color: transparent;\n",
              "      border-left-color: var(--fill-color);\n",
              "      border-top-color: var(--fill-color);\n",
              "    }\n",
              "    30% {\n",
              "      border-color: transparent;\n",
              "      border-left-color: var(--fill-color);\n",
              "      border-top-color: var(--fill-color);\n",
              "      border-right-color: var(--fill-color);\n",
              "    }\n",
              "    40% {\n",
              "      border-color: transparent;\n",
              "      border-right-color: var(--fill-color);\n",
              "      border-top-color: var(--fill-color);\n",
              "    }\n",
              "    60% {\n",
              "      border-color: transparent;\n",
              "      border-right-color: var(--fill-color);\n",
              "    }\n",
              "    80% {\n",
              "      border-color: transparent;\n",
              "      border-right-color: var(--fill-color);\n",
              "      border-bottom-color: var(--fill-color);\n",
              "    }\n",
              "    90% {\n",
              "      border-color: transparent;\n",
              "      border-bottom-color: var(--fill-color);\n",
              "    }\n",
              "  }\n",
              "</style>\n",
              "\n",
              "      <script>\n",
              "        async function quickchart(key) {\n",
              "          const quickchartButtonEl =\n",
              "            document.querySelector('#' + key + ' button');\n",
              "          quickchartButtonEl.disabled = true;  // To prevent multiple clicks.\n",
              "          quickchartButtonEl.classList.add('colab-df-spinner');\n",
              "          try {\n",
              "            const charts = await google.colab.kernel.invokeFunction(\n",
              "                'suggestCharts', [key], {});\n",
              "          } catch (error) {\n",
              "            console.error('Error during call to suggestCharts:', error);\n",
              "          }\n",
              "          quickchartButtonEl.classList.remove('colab-df-spinner');\n",
              "          quickchartButtonEl.classList.add('colab-df-quickchart-complete');\n",
              "        }\n",
              "        (() => {\n",
              "          let quickchartButtonEl =\n",
              "            document.querySelector('#df-7d284db7-d4fb-4a7a-8894-0bc39d15f55a button');\n",
              "          quickchartButtonEl.style.display =\n",
              "            google.colab.kernel.accessAllowed ? 'block' : 'none';\n",
              "        })();\n",
              "      </script>\n",
              "    </div>\n",
              "\n",
              "    </div>\n",
              "  </div>\n"
            ],
            "application/vnd.google.colaboratory.intrinsic+json": {
              "type": "dataframe",
              "variable_name": "df",
              "summary": "{\n  \"name\": \"df\",\n  \"rows\": 5,\n  \"fields\": [\n    {\n      \"column\": \"price\",\n      \"properties\": {\n        \"dtype\": \"number\",\n        \"std\": 142758,\n        \"min\": 250000,\n        \"max\": 620000,\n        \"num_unique_values\": 5,\n        \"samples\": [\n          340000,\n          620000,\n          500000\n        ],\n        \"semantic_type\": \"\",\n        \"description\": \"\"\n      }\n    },\n    {\n      \"column\": \"sqft\",\n      \"properties\": {\n        \"dtype\": \"number\",\n        \"std\": 432,\n        \"min\": 1400,\n        \"max\": 2500,\n        \"num_unique_values\": 5,\n        \"samples\": [\n          1600,\n          2500,\n          2100\n        ],\n        \"semantic_type\": \"\",\n        \"description\": \"\"\n      }\n    },\n    {\n      \"column\": \"num_bedrooms\",\n      \"properties\": {\n        \"dtype\": \"number\",\n        \"std\": 0,\n        \"min\": 3,\n        \"max\": 5,\n        \"num_unique_values\": 3,\n        \"samples\": [\n          3,\n          4,\n          5\n        ],\n        \"semantic_type\": \"\",\n        \"description\": \"\"\n      }\n    },\n    {\n      \"column\": \"num_bathrooms\",\n      \"properties\": {\n        \"dtype\": \"number\",\n        \"std\": 0,\n        \"min\": 2,\n        \"max\": 4,\n        \"num_unique_values\": 3,\n        \"samples\": [\n          2,\n          3,\n          4\n        ],\n        \"semantic_type\": \"\",\n        \"description\": \"\"\n      }\n    },\n    {\n      \"column\": \"zipcode\",\n      \"properties\": {\n        \"dtype\": \"number\",\n        \"std\": 0,\n        \"min\": 21044,\n        \"max\": 21046,\n        \"num_unique_values\": 3,\n        \"samples\": [\n          21044,\n          21045,\n          21046\n        ],\n        \"semantic_type\": \"\",\n        \"description\": \"\"\n      }\n    },\n    {\n      \"column\": \"year_built\",\n      \"properties\": {\n        \"dtype\": \"number\",\n        \"std\": 12,\n        \"min\": 1990,\n        \"max\": 2020,\n        \"num_unique_values\": 5,\n        \"samples\": [\n          2001,\n          2020,\n          2015\n        ],\n        \"semantic_type\": \"\",\n        \"description\": \"\"\n      }\n    },\n    {\n      \"column\": \"has_pool\",\n      \"properties\": {\n        \"dtype\": \"category\",\n        \"num_unique_values\": 2,\n        \"samples\": [\n          \"yes\",\n          \"no\"\n        ],\n        \"semantic_type\": \"\",\n        \"description\": \"\"\n      }\n    }\n  ]\n}"
            }
          },
          "metadata": {},
          "execution_count": 10
        }
      ],
      "source": [
        "import pandas as pd\n",
        "\n",
        "df = pd.read_csv(\"real_estate_data.csv\")\n",
        "df.head()"
      ]
    },
    {
      "cell_type": "code",
      "source": [
        "from google.colab import drive\n",
        "drive.mount('/content/drive')"
      ],
      "metadata": {
        "id": "1joMX89B_9fu"
      },
      "id": "1joMX89B_9fu",
      "execution_count": null,
      "outputs": []
    },
    {
      "cell_type": "code",
      "execution_count": null,
      "id": "6b9876c1-a3a5-425d-b78d-d01007891cf4",
      "metadata": {
        "id": "6b9876c1-a3a5-425d-b78d-d01007891cf4"
      },
      "outputs": [],
      "source": [
        "df.info()"
      ]
    },
    {
      "cell_type": "code",
      "execution_count": null,
      "id": "678a282f-c629-4f36-91a6-d161154314ba",
      "metadata": {
        "id": "678a282f-c629-4f36-91a6-d161154314ba"
      },
      "outputs": [],
      "source": [
        "df.describe()"
      ]
    },
    {
      "cell_type": "code",
      "execution_count": null,
      "id": "5ad23df3-6508-48fa-b06c-b9a0d9828882",
      "metadata": {
        "scrolled": true,
        "id": "5ad23df3-6508-48fa-b06c-b9a0d9828882"
      },
      "outputs": [],
      "source": [
        "df.isnull().sum()"
      ]
    },
    {
      "cell_type": "code",
      "execution_count": null,
      "id": "ade7f1ee-4b5a-4f8a-a63c-89a5f027c7e9",
      "metadata": {
        "id": "ade7f1ee-4b5a-4f8a-a63c-89a5f027c7e9"
      },
      "outputs": [],
      "source": [
        "import matplotlib.pyplot as plt\n",
        "import seaborn as sns\n",
        "\n",
        "df.hist(bins=30, figsize=(12,8))\n",
        "plt.tight_layout()\n",
        "plt.show()"
      ]
    },
    {
      "cell_type": "raw",
      "id": "bf3e1342-0b5c-4e08-8f27-3352e2c89ca2",
      "metadata": {
        "id": "bf3e1342-0b5c-4e08-8f27-3352e2c89ca2"
      },
      "source": [
        "corr_matrix = df.corr(numeric_only=True)\n",
        "corr_matrix[\"price\"].sort_values(ascending=False)"
      ]
    },
    {
      "cell_type": "code",
      "execution_count": null,
      "id": "a02c3f78-5fe6-4f00-9007-f97317277483",
      "metadata": {
        "id": "a02c3f78-5fe6-4f00-9007-f97317277483"
      },
      "outputs": [],
      "source": [
        "corr_matrix = df.corr(numeric_only=True)"
      ]
    },
    {
      "cell_type": "raw",
      "id": "92877afc-1c19-4374-b67e-cffed59c13dc",
      "metadata": {
        "id": "92877afc-1c19-4374-b67e-cffed59c13dc"
      },
      "source": [
        "corr_matrix[\"price\"].sort_values(ascending=False)"
      ]
    },
    {
      "cell_type": "code",
      "execution_count": null,
      "id": "7e274793-a2cc-4985-96fe-9dd1fabccedd",
      "metadata": {
        "id": "7e274793-a2cc-4985-96fe-9dd1fabccedd"
      },
      "outputs": [],
      "source": [
        "import seaborn as sns\n",
        "import matplotlib.pyplot as plt\n",
        "\n",
        "plt.figure(figsize=(10, 8))\n",
        "sns.heatmap(corr_matrix, annot=True, cmap='coolwarm', fmt=\".2f\")\n",
        "plt.title(\"Feature Correlations\")\n",
        "plt.show()"
      ]
    },
    {
      "cell_type": "code",
      "execution_count": null,
      "id": "c603d90d-b1fe-4009-8d9d-2df586d3a190",
      "metadata": {
        "id": "c603d90d-b1fe-4009-8d9d-2df586d3a190"
      },
      "outputs": [],
      "source": [
        "df[\"house_age\"] = 2025 - df[\"year_built\"]"
      ]
    },
    {
      "cell_type": "code",
      "execution_count": null,
      "id": "f3a2d0ac-1b91-4524-82ae-598e3934f88e",
      "metadata": {
        "colab": {
          "base_uri": "https://localhost:8080/",
          "height": 141
        },
        "id": "f3a2d0ac-1b91-4524-82ae-598e3934f88e",
        "outputId": "d3ceede8-e50f-41bf-dac6-e397056390a8"
      },
      "outputs": [
        {
          "output_type": "error",
          "ename": "NameError",
          "evalue": "name 'df' is not defined",
          "traceback": [
            "\u001b[0;31m---------------------------------------------------------------------------\u001b[0m",
            "\u001b[0;31mNameError\u001b[0m                                 Traceback (most recent call last)",
            "\u001b[0;32m<ipython-input-7-7d5d7e83b9d1>\u001b[0m in \u001b[0;36m<cell line: 0>\u001b[0;34m()\u001b[0m\n\u001b[0;32m----> 1\u001b[0;31m \u001b[0mdf\u001b[0m\u001b[0;34m.\u001b[0m\u001b[0mdrop\u001b[0m\u001b[0;34m(\u001b[0m\u001b[0;34m\"year_built\"\u001b[0m\u001b[0;34m,\u001b[0m \u001b[0maxis\u001b[0m\u001b[0;34m=\u001b[0m\u001b[0;36m1\u001b[0m\u001b[0;34m,\u001b[0m \u001b[0minplace\u001b[0m\u001b[0;34m=\u001b[0m\u001b[0;32mTrue\u001b[0m\u001b[0;34m)\u001b[0m\u001b[0;34m\u001b[0m\u001b[0;34m\u001b[0m\u001b[0m\n\u001b[0m",
            "\u001b[0;31mNameError\u001b[0m: name 'df' is not defined"
          ]
        }
      ],
      "source": [
        "df.drop(\"year_built\", axis=1, inplace=True)"
      ]
    },
    {
      "cell_type": "code",
      "execution_count": null,
      "id": "dc8d9020-31f2-45ad-9ec8-3beec5978df0",
      "metadata": {
        "id": "dc8d9020-31f2-45ad-9ec8-3beec5978df0"
      },
      "outputs": [],
      "source": [
        "df[\"has_pool\"] = df[\"has_pool\"].map({\"yes\": 1, \"no\":0})"
      ]
    },
    {
      "cell_type": "code",
      "execution_count": null,
      "id": "669eed51-26e4-4b89-a0b5-5b44fd37031a",
      "metadata": {
        "id": "669eed51-26e4-4b89-a0b5-5b44fd37031a"
      },
      "outputs": [],
      "source": [
        "df = pd.get_dummies(df, columns=[\"zipcode\"], drop_first=True)"
      ]
    },
    {
      "cell_type": "code",
      "execution_count": null,
      "id": "a0e18885-f91b-4f2a-9f62-38a964f3c0de",
      "metadata": {
        "id": "a0e18885-f91b-4f2a-9f62-38a964f3c0de"
      },
      "outputs": [],
      "source": [
        "df.info()\n",
        "df.head()"
      ]
    },
    {
      "cell_type": "code",
      "execution_count": null,
      "id": "d13ab1fc-219e-4acd-8fdc-ac7414ee5416",
      "metadata": {
        "id": "d13ab1fc-219e-4acd-8fdc-ac7414ee5416"
      },
      "outputs": [],
      "source": [
        "X = df.drop(\"price\", axis=1)\n",
        "y = df[\"price\"].copy()"
      ]
    },
    {
      "cell_type": "code",
      "execution_count": null,
      "id": "854d7325-35b6-40e8-8de4-5211c88a5971",
      "metadata": {
        "id": "854d7325-35b6-40e8-8de4-5211c88a5971"
      },
      "outputs": [],
      "source": [
        "from sklearn.pipeline import Pipeline\n",
        "from sklearn.preprocessing import StandardScaler\n",
        "from sklearn.impute import SimpleImputer\n",
        "\n",
        "pipeline = Pipeline ([\n",
        "    (\"imputer\", SimpleImputer(strategy=\"median\")),\n",
        "    (\"scaler\", StandardScaler())\n",
        "])\n",
        "\n",
        "X_prepared = pipeline.fit_transform(X)"
      ]
    },
    {
      "cell_type": "code",
      "execution_count": null,
      "id": "5e0cd0eb-a697-4752-b0a2-fd8114c0acc3",
      "metadata": {
        "id": "5e0cd0eb-a697-4752-b0a2-fd8114c0acc3"
      },
      "outputs": [],
      "source": [
        "from sklearn.linear_model import LinearRegression\n",
        "\n",
        "lin_reg = LinearRegression()\n",
        "lin_reg.fit(X_prepared, y)"
      ]
    },
    {
      "cell_type": "code",
      "execution_count": null,
      "id": "909d4e2c-8fe2-4a4e-93e1-5c592237c646",
      "metadata": {
        "id": "909d4e2c-8fe2-4a4e-93e1-5c592237c646"
      },
      "outputs": [],
      "source": [
        "from sklearn.metrics import mean_squared_error\n",
        "import numpy as np\n",
        "\n",
        "y_pred = lin_reg.predict(X_prepared)\n",
        "lin_mse = mean_squared_error(y, y_pred)\n",
        "lin_rmse = np.sqrt(lin_mse)\n",
        "\n",
        "print(\"Linear Regression RMSE:\", lin_rmse)"
      ]
    },
    {
      "cell_type": "code",
      "execution_count": null,
      "id": "e97d13ab-663a-4a52-a8ff-791b94c1263b",
      "metadata": {
        "id": "e97d13ab-663a-4a52-a8ff-791b94c1263b"
      },
      "outputs": [],
      "source": [
        "import matplotlib.pyplot as plt\n",
        "\n",
        "plt.scatter(y, y_pred)\n",
        "plt.xlabel(\"Actual Prices\")\n",
        "plt.ylabel(\"Predicted Prices\")\n",
        "plt.title\n",
        "(\"Actual vs. Predicted Housing Prices\")\n",
        "plt.grid(True)\n",
        "plt.show()"
      ]
    },
    {
      "cell_type": "code",
      "execution_count": null,
      "id": "b8b7c55c-0282-4b7d-a906-e17ab3dbd394",
      "metadata": {
        "id": "b8b7c55c-0282-4b7d-a906-e17ab3dbd394"
      },
      "outputs": [],
      "source": [
        "from sklearn.model_selection import cross_val_score\n",
        "import numpy as np\n",
        "\n",
        "scores = cross_val_score(lin_reg, X_prepared, y,\n",
        "                         scoring=\"neg_mean_squared_error\", cv=3)\n",
        "\n",
        "rmse_scores = np.sqrt(-scores)"
      ]
    },
    {
      "cell_type": "code",
      "execution_count": null,
      "id": "f4f8c4d3-6ce0-4398-8203-4f92e9f20f05",
      "metadata": {
        "scrolled": true,
        "colab": {
          "base_uri": "https://localhost:8080/",
          "height": 211
        },
        "id": "f4f8c4d3-6ce0-4398-8203-4f92e9f20f05",
        "outputId": "8a90e2c2-39ee-4915-c827-79a426d61986"
      },
      "outputs": [
        {
          "output_type": "error",
          "ename": "NameError",
          "evalue": "name 'df' is not defined",
          "traceback": [
            "\u001b[0;31m---------------------------------------------------------------------------\u001b[0m",
            "\u001b[0;31mNameError\u001b[0m                                 Traceback (most recent call last)",
            "\u001b[0;32m<ipython-input-8-ba884bb049fa>\u001b[0m in \u001b[0;36m<cell line: 0>\u001b[0;34m()\u001b[0m\n\u001b[1;32m     16\u001b[0m \u001b[0mdf_fake\u001b[0m \u001b[0;34m=\u001b[0m \u001b[0mpd\u001b[0m\u001b[0;34m.\u001b[0m\u001b[0mDataFrame\u001b[0m\u001b[0;34m(\u001b[0m\u001b[0mnew_data\u001b[0m\u001b[0;34m)\u001b[0m\u001b[0;34m\u001b[0m\u001b[0;34m\u001b[0m\u001b[0m\n\u001b[1;32m     17\u001b[0m \u001b[0;34m\u001b[0m\u001b[0m\n\u001b[0;32m---> 18\u001b[0;31m \u001b[0mdf\u001b[0m \u001b[0;34m=\u001b[0m \u001b[0mpd\u001b[0m\u001b[0;34m.\u001b[0m\u001b[0mconcat\u001b[0m\u001b[0;34m(\u001b[0m\u001b[0;34m[\u001b[0m\u001b[0mdf\u001b[0m\u001b[0;34m,\u001b[0m \u001b[0mdf_fake\u001b[0m\u001b[0;34m]\u001b[0m\u001b[0;34m,\u001b[0m \u001b[0mignore_index\u001b[0m\u001b[0;34m=\u001b[0m\u001b[0;32mTrue\u001b[0m\u001b[0;34m)\u001b[0m\u001b[0;34m\u001b[0m\u001b[0;34m\u001b[0m\u001b[0m\n\u001b[0m\u001b[1;32m     19\u001b[0m \u001b[0;34m\u001b[0m\u001b[0m\n\u001b[1;32m     20\u001b[0m \u001b[0mprint\u001b[0m\u001b[0;34m(\u001b[0m\u001b[0;34m\"New dataset shape:\"\u001b[0m\u001b[0;34m,\u001b[0m \u001b[0mdf\u001b[0m\u001b[0;34m.\u001b[0m\u001b[0mshape\u001b[0m\u001b[0;34m)\u001b[0m\u001b[0;34m\u001b[0m\u001b[0;34m\u001b[0m\u001b[0m\n",
            "\u001b[0;31mNameError\u001b[0m: name 'df' is not defined"
          ]
        }
      ],
      "source": [
        "import pandas as pd\n",
        "import numpy as np\n",
        "\n",
        "np.random.seed(42)\n",
        "\n",
        "n_new = 25\n",
        "new_data = {\n",
        "    \"price\": np.random.randint(200000, 800000, size=n_new),\n",
        "    \"sqft\": np.random.randint(1000, 3000, size=n_new),\n",
        "    \"num_bedrooms\": np.random.randint(2, 6, size=n_new),\n",
        "    \"num_bathrooms\": np.random.randint(1, 4, size=n_new),\n",
        "    \"zipcode\": np.random.choice([\"21044\", \"21045\", \"21046\"], size=n_new),\n",
        "    \"year_built\": np.random.randint(1980, 2025, size=n_new)\n",
        "}\n",
        "\n",
        "df_fake = pd.DataFrame(new_data)\n",
        "\n",
        "df = pd.concat([df, df_fake], ignore_index=True)\n",
        "\n",
        "print(\"New dataset shape:\", df.shape)\n",
        "df.head()"
      ]
    },
    {
      "cell_type": "code",
      "execution_count": null,
      "id": "0b2171db-e777-4759-96f5-dcd746fc69ed",
      "metadata": {
        "id": "0b2171db-e777-4759-96f5-dcd746fc69ed"
      },
      "outputs": [],
      "source": [
        "df[\"house_age\"] = 2025 - df[\"year_built\"]\n",
        "df.drop(\"year_built\", axis=1, inplace=True)\n",
        "df[\"has_pool\"] = df[\"has_pool\"].map({\"yes\": 1, \"no\":0})\n",
        "df = pd.get_dummies(df, columns=[\"zipcode\"], drop_first=True)"
      ]
    },
    {
      "cell_type": "code",
      "execution_count": null,
      "id": "672cc9a4-ec65-4301-95e5-df548454eb77",
      "metadata": {
        "id": "672cc9a4-ec65-4301-95e5-df548454eb77"
      },
      "outputs": [],
      "source": [
        "X.nunique()"
      ]
    },
    {
      "cell_type": "markdown",
      "id": "8a0d879b-6adf-4107-8b99-c31236a17c6f",
      "metadata": {
        "id": "8a0d879b-6adf-4107-8b99-c31236a17c6f"
      },
      "source": [
        "X.isnull().sum()"
      ]
    },
    {
      "cell_type": "code",
      "execution_count": null,
      "id": "681a262c-df23-478c-8104-d346e50357d8",
      "metadata": {
        "id": "681a262c-df23-478c-8104-d346e50357d8"
      },
      "outputs": [],
      "source": [
        "X = X.loc[:, X.nunique() > 1]"
      ]
    },
    {
      "cell_type": "code",
      "execution_count": null,
      "id": "365fe7b4-2258-403a-b629-b8c1198c07df",
      "metadata": {
        "id": "365fe7b4-2258-403a-b629-b8c1198c07df"
      },
      "outputs": [],
      "source": [
        "X_prepared = pipeline.fit_transform(X)"
      ]
    },
    {
      "cell_type": "code",
      "execution_count": null,
      "id": "0a193612-df55-4d25-82f9-09332c53fa86",
      "metadata": {
        "id": "0a193612-df55-4d25-82f9-09332c53fa86"
      },
      "outputs": [],
      "source": [
        "X_prepared[:5]"
      ]
    },
    {
      "cell_type": "code",
      "execution_count": null,
      "id": "76929a21-a9d5-4c38-b4c4-d485605e34ca",
      "metadata": {
        "id": "76929a21-a9d5-4c38-b4c4-d485605e34ca"
      },
      "outputs": [],
      "source": [
        "X_prepared.shape"
      ]
    },
    {
      "cell_type": "code",
      "execution_count": null,
      "id": "607d2921-a5b4-45d1-8f6d-f27aa435efb0",
      "metadata": {
        "id": "607d2921-a5b4-45d1-8f6d-f27aa435efb0"
      },
      "outputs": [],
      "source": [
        "scores = cross_val_score(lin_reg, X_prepared, y,\n",
        "                         scoring=\"neg_mean_squared_error\", cv=5)\n",
        "rmse_scores = np.sqrt(-scores)\n",
        "\n",
        "print(\"Cross-Validation RMSE Scores:\", rmse_scores)\n",
        "print(\"Mean:\", rmse_scores.mean())\n",
        "print(\"Standard Deviation:\", rmse_scores.std())"
      ]
    },
    {
      "cell_type": "code",
      "execution_count": null,
      "id": "6c2d6ee5-2bcc-47b3-ad79-9e2d6d94c1b1",
      "metadata": {
        "id": "6c2d6ee5-2bcc-47b3-ad79-9e2d6d94c1b1"
      },
      "outputs": [],
      "source": [
        "from sklearn.tree import DecisionTreeRegressor\n",
        "from sklearn.model_selection import cross_val_score\n",
        "import numpy as np\n",
        "\n",
        "tree_reg = DecisionTreeRegressor(random_state=42)\n",
        "\n",
        "tree_scores = cross_val_score(tree_reg, X_prepared, y,\n",
        "                              scoring=\"neg_mean_squared_error\", cv=5)\n",
        "\n",
        "tree_rmse = np.sqrt(-tree_scores)\n",
        "\n",
        "print(\"Decision Tree RMSE Scores:\", tree_rmse)\n",
        "print(\"Mean:\", tree_rmse.mean())\n",
        "print(\"Standard Deviation:\", tree_rmse.std())"
      ]
    },
    {
      "cell_type": "code",
      "execution_count": null,
      "id": "96a74a5f-691e-4c63-ac9e-bce9fef7e078",
      "metadata": {
        "id": "96a74a5f-691e-4c63-ac9e-bce9fef7e078"
      },
      "outputs": [],
      "source": [
        "from sklearn.ensemble import RandomForestRegressor\n",
        "from sklearn.model_selection import cross_val_score\n",
        "import numpy as np\n",
        "\n",
        "forest_reg = RandomForestRegressor(random_state=42)\n",
        "\n",
        "forest_scores = cross_val_score(forest_reg, X_prepared, y,\n",
        "                                scoring=\"neg_mean_squared_error\", cv=5)\n",
        "\n",
        "forest_rmse = np.sqrt(-forest_scores)\n",
        "\n",
        "print(\"Random Forest RMSE Scores:\", forest_rmse)\n",
        "print(\"Mean:\", forest_rmse.mean())\n",
        "print(\"Standard Deviation:\", forest_rmse.std())"
      ]
    },
    {
      "cell_type": "code",
      "execution_count": null,
      "id": "380d91a1-5a9d-4cf1-8c44-358fc61db5e4",
      "metadata": {
        "id": "380d91a1-5a9d-4cf1-8c44-358fc61db5e4"
      },
      "outputs": [],
      "source": [
        "from sklearn.model_selection import GridSearchCV\n",
        "from sklearn.ensemble import RandomForestRegressor\n",
        "\n",
        "#Defining Grid\n",
        "param_grid = {\n",
        "    \"n_estimators\": [30, 50, 100],\n",
        "    \"max_features\": [4, 6, 8],\n",
        "}\n",
        "\n",
        "forest_red = RandomForestRegressor(random_state=42)\n",
        "\n",
        "grid_search = GridSearchCV(\n",
        "    forest_reg, param_grid,\n",
        "    cv=5,\n",
        "    scoring=\"neg_mean_squared_error\",\n",
        "return_train_score=True\n",
        ")\n",
        "grid_search.fit(X_prepared, y)"
      ]
    },
    {
      "cell_type": "code",
      "execution_count": null,
      "id": "1374218e-fcec-48f5-b38d-30c7de0cea99",
      "metadata": {
        "id": "1374218e-fcec-48f5-b38d-30c7de0cea99"
      },
      "outputs": [],
      "source": [
        "print(\"Best parameters:\", grid_search.best_params_)\n",
        "print(\"Best RMSE:\", np.sqrt(-grid_search.best_score_))"
      ]
    },
    {
      "cell_type": "code",
      "execution_count": null,
      "id": "b7f8845c-3430-46b1-a60b-57eab4b3eaf3",
      "metadata": {
        "id": "b7f8845c-3430-46b1-a60b-57eab4b3eaf3"
      },
      "outputs": [],
      "source": []
    }
  ],
  "metadata": {
    "kernelspec": {
      "display_name": "Python 3 (ipykernel)",
      "language": "python",
      "name": "python3"
    },
    "language_info": {
      "codemirror_mode": {
        "name": "ipython",
        "version": 3
      },
      "file_extension": ".py",
      "mimetype": "text/x-python",
      "name": "python",
      "nbconvert_exporter": "python",
      "pygments_lexer": "ipython3",
      "version": "3.9.21"
    },
    "colab": {
      "provenance": []
    }
  },
  "nbformat": 4,
  "nbformat_minor": 5
}